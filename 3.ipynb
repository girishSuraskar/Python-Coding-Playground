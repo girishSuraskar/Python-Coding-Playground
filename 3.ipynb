{
 "cells": [
  {
   "cell_type": "code",
   "execution_count": 4,
   "id": "0de49510-6d49-44d1-8e1e-b8b33872d2a1",
   "metadata": {},
   "outputs": [
    {
     "name": "stdout",
     "output_type": "stream",
     "text": [
      "1 2 3 4 5 "
     ]
    }
   ],
   "source": [
    "# how to use else with loops\n",
    "i=1\n",
    "while i <= 10:\n",
    "    print(i,end=\" \")\n",
    "    if(i==5):\n",
    "        break\n",
    "    i+=1\n",
    "else:\n",
    "    print(\"you are in else\")\n",
    "#from here we get conclusion that if loop is not terminated by condition \n",
    "#then else block will not execute\n",
    "\n",
    "\n",
    "    "
   ]
  },
  {
   "cell_type": "code",
   "execution_count": 7,
   "id": "f72ca9ad-d31b-41bd-b99d-3542dddd44b2",
   "metadata": {},
   "outputs": [
    {
     "name": "stdout",
     "output_type": "stream",
     "text": [
      "1 2 3 4 5 6 7 8 9 10 \n",
      "you are in else\n"
     ]
    }
   ],
   "source": [
    "i=1\n",
    "while i <= 10:\n",
    "    print(i,end=\" \")\n",
    "    i+=1\n",
    "else:\n",
    "    print(\"\\nyou are in else\")\n",
    "# after condition of while loop is get false then only else block will execute"
   ]
  },
  {
   "cell_type": "code",
   "execution_count": 11,
   "id": "c330a905-c065-423f-ad94-f91e74863735",
   "metadata": {},
   "outputs": [
    {
     "name": "stdout",
     "output_type": "stream",
     "text": [
      "10 20\n",
      "30\n"
     ]
    }
   ],
   "source": [
    "# what is name mangling?\n",
    "# as we know that there is no access specifiers in python thatswhy python gives name mangling\n",
    "# \n",
    "class Item:\n",
    "    #static variable\n",
    "    x=10\n",
    "    _h=20\n",
    "    __p=30 #this is special variable and treated as private = _Item__p\n",
    "\n",
    "print(Item.x,Item._h)  # we can access x and _h as it is static\n",
    "#print(Item.__p)   #we cannot access __p varible because it is private\n",
    "print(Item._Item__p) # this is name mangling"
   ]
  },
  {
   "cell_type": "code",
   "execution_count": 13,
   "id": "a3f6c943-4c38-4522-a87a-4df755154c0a",
   "metadata": {},
   "outputs": [
    {
     "name": "stdout",
     "output_type": "stream",
     "text": [
      "10\n",
      "2 3\n"
     ]
    }
   ],
   "source": [
    "# What is the difference between instance and class object???\n",
    "class Test:\n",
    "    x=10   #this is class object\n",
    "    def __init__(self,a,b):\n",
    "        self.a=a    #this are the instance variables\n",
    "        self.b=b\n",
    "print(Test.x)   # we can access it by using class and .\n",
    "# but to access instance variable we need to create an object of class \n",
    "t1 = Test(2,3)\n",
    "print(t1.a,t1.b)"
   ]
  },
  {
   "cell_type": "code",
   "execution_count": null,
   "id": "96b7c8db-61f2-4c82-9765-67bc2ee514eb",
   "metadata": {},
   "outputs": [],
   "source": [
    "# what is __init__ ?\n",
    "# it is like constructor in java but java can implicitly make constructor by itself \n",
    "# but this is different in case of python\n",
    "# __init__ method must have atleast one argument i.e self keyword which refers to same object of a class\n"
   ]
  },
  {
   "cell_type": "code",
   "execution_count": null,
   "id": "57b3aa44-a5b5-4848-ba48-08d32b4cba64",
   "metadata": {},
   "outputs": [],
   "source": []
  },
  {
   "cell_type": "code",
   "execution_count": null,
   "id": "139d48d5-1cb7-4b40-b378-8b0ea14269f1",
   "metadata": {},
   "outputs": [],
   "source": []
  }
 ],
 "metadata": {
  "kernelspec": {
   "display_name": "Python 3 (ipykernel)",
   "language": "python",
   "name": "python3"
  },
  "language_info": {
   "codemirror_mode": {
    "name": "ipython",
    "version": 3
   },
   "file_extension": ".py",
   "mimetype": "text/x-python",
   "name": "python",
   "nbconvert_exporter": "python",
   "pygments_lexer": "ipython3",
   "version": "3.10.5"
  }
 },
 "nbformat": 4,
 "nbformat_minor": 5
}
