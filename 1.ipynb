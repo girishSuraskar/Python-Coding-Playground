{
 "cells": [
  {
   "cell_type": "code",
   "execution_count": 3,
   "id": "dc2a649b-51db-4a82-9e87-d68c2297e14b",
   "metadata": {},
   "outputs": [
    {
     "name": "stdout",
     "output_type": "stream",
     "text": [
      "girish is this hi\n"
     ]
    }
   ],
   "source": [
    "str1 = \"hi this is girish\"\n",
    "print(\" \".join(str1.split()[::-1]))"
   ]
  },
  {
   "cell_type": "code",
   "execution_count": 12,
   "id": "2470b3dc-8e02-486e-beb7-bbabe5806830",
   "metadata": {},
   "outputs": [
    {
     "name": "stdout",
     "output_type": "stream",
     "text": [
      "[2, 3, 4]\n",
      "[2, 3, 4]\n"
     ]
    }
   ],
   "source": [
    "lst1 = [1,1,2,3,4,5,5,5,6,6]\n",
    "ans = list()\n",
    "for num in lst1:\n",
    "    if lst1.count(num) ==1:\n",
    "        ans.append(num)\n",
    "print(ans)\n",
    "\n",
    "\n",
    "#using list comprehenssion\n",
    "ans = [num for num in lst1  if lst1.count(num)==1]\n",
    "print(ans)"
   ]
  },
  {
   "cell_type": "code",
   "execution_count": 19,
   "id": "4d037833-0545-42cc-8a20-47ecfc108b12",
   "metadata": {},
   "outputs": [
    {
     "data": {
      "text/plain": [
       "['a:4', 'b:1', 'c:2', 'd:1']"
      ]
     },
     "execution_count": 19,
     "metadata": {},
     "output_type": "execute_result"
    }
   ],
   "source": [
    "\"\"\" you have provided a str like 'a,a,a,,b,c,a,d,c' you need to convert it to dict like {'a:4','b:1','c::1','d:1'}\"\"\"\n",
    "q_lst = 'a,a,a,b,c,a,d,c'\n",
    "con_lst = q_lst.split(',')\n",
    "visited = []\n",
    "ans = []\n",
    "for ch in con_lst:\n",
    "    if ch not in visited:\n",
    "        ans.append(f'{ch}:{q_lst.count(ch)}')\n",
    "        visited.append(ch)\n",
    "        \n",
    "ans"
   ]
  },
  {
   "cell_type": "code",
   "execution_count": 20,
   "id": "ac9c3d48-9e45-4c71-8050-a54191eceedf",
   "metadata": {},
   "outputs": [
    {
     "name": "stdout",
     "output_type": "stream",
     "text": [
      "nohtyp si elpmis\n"
     ]
    }
   ],
   "source": [
    "ip = \"python is simple\"\n",
    "sip = ip.split()\n",
    "ans = \" \".join([item[::-1] for item in sip])\n",
    "print(ans)"
   ]
  },
  {
   "cell_type": "code",
   "execution_count": 22,
   "id": "6d368185-49af-4895-b6c9-dc8486b016f7",
   "metadata": {},
   "outputs": [
    {
     "name": "stdout",
     "output_type": "stream",
     "text": [
      "{10, 20, 90}\n"
     ]
    }
   ],
   "source": [
    "# print duplicates in list\n",
    "lst = [10,20,30,10,40,20,50,80,90,90]\n",
    "print(set([item for item in lst if lst.count(item) >1]))"
   ]
  },
  {
   "cell_type": "code",
   "execution_count": 24,
   "id": "6175e745-49e4-4502-a558-76da34e74e83",
   "metadata": {},
   "outputs": [
    {
     "data": {
      "text/plain": [
       "2"
      ]
     },
     "execution_count": 24,
     "metadata": {},
     "output_type": "execute_result"
    }
   ],
   "source": [
    "# to check values in dictionry is of list type or not\n",
    "dct = {'a':2,'b':[2,'a',3.444],'c':[4,'p',3.22],'d':1}\n",
    "ans = 0\n",
    "for k,v in dct.items():\n",
    "    if isinstance(v,list):\n",
    "        ans += 1\n",
    "\n",
    "ans"
   ]
  }
 ],
 "metadata": {
  "kernelspec": {
   "display_name": "Python 3 (ipykernel)",
   "language": "python",
   "name": "python3"
  },
  "language_info": {
   "codemirror_mode": {
    "name": "ipython",
    "version": 3
   },
   "file_extension": ".py",
   "mimetype": "text/x-python",
   "name": "python",
   "nbconvert_exporter": "python",
   "pygments_lexer": "ipython3",
   "version": "3.10.5"
  }
 },
 "nbformat": 4,
 "nbformat_minor": 5
}
