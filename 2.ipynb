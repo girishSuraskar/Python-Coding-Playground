{
 "cells": [
  {
   "cell_type": "code",
   "execution_count": 10,
   "id": "89a22085-8f1f-4026-bb89-04ba7b439d0e",
   "metadata": {},
   "outputs": [
    {
     "name": "stdout",
     "output_type": "stream",
     "text": [
      "['e', 'n', 'i', 'a', 'r']\n"
     ]
    }
   ],
   "source": [
    "# find common letters\n",
    "\n",
    "str1 = \"naina\"\n",
    "str2 = \"reena\"\n",
    "print(list(set(str1)|(set(str2))))"
   ]
  },
  {
   "cell_type": "code",
   "execution_count": 17,
   "id": "b5766f80-52f4-4928-ba84-6c4e72a0d8e2",
   "metadata": {},
   "outputs": [
    {
     "name": "stdout",
     "output_type": "stream",
     "text": [
      "{'and': 2, 'mango': 1, 'eating': 2, 'mango.': 1, 'apple': 2, 'Her': 1, 'sister': 1, 'loves': 2, 'Sheena': 1, 'also': 1}\n",
      "{'and': 2, 'mango': 1, 'eating': 2, 'mango.': 1, 'apple': 2, 'Her': 1, 'sister': 1, 'loves': 2, 'Sheena': 1, 'also': 1}\n"
     ]
    }
   ],
   "source": [
    "#Wrute a python progema to count the frequency of words appering in a string\n",
    "line=\"Sheena loves eating apple and mango. Her sister also loves eating apple and mango\"\n",
    "lst = {}\n",
    "lst1 = line.split()\n",
    "for word in lst1:\n",
    "    if word not in lst:\n",
    "        lst[word] = lst1.count(word)\n",
    "\n",
    "print(lst)\n",
    "\n",
    "\n",
    "# dict comprehension not giving correct reuslt\n",
    "ans = {word : lst1.count(word) for word in set(lst1) }\n",
    "print(ans)"
   ]
  },
  {
   "cell_type": "code",
   "execution_count": 25,
   "id": "626374d0-dfb7-426d-ba4d-4c676a9bcebc",
   "metadata": {},
   "outputs": [
    {
     "name": "stdout",
     "output_type": "stream",
     "text": [
      "{'girish': [22, 33, 44], 'sahil': [22, 33, 44], 'raj': [22, 33, 44]}\n",
      "{'girish': [22, 78], 'sahil': [33, 75], 'raj': [44, 71]}\n",
      "[('girish', 22), ('sahil', 33), ('raj', 44)]\n"
     ]
    }
   ],
   "source": [
    "# write a python program to convert two lists into a dictionary\n",
    "\n",
    "list1 = ['girish','sahil','raj']\n",
    "list2 = [22,33,44]\n",
    "marks = [78,75,71]\n",
    "\n",
    "#using dict.fromkeys()\n",
    "convert_to_dict = dict.fromkeys(list1,list2)\n",
    "print(convert_to_dict)\n",
    "\n",
    "#using zip function\n",
    "convert_to_dict = {key:[value,marks] for key,value,marks in zip(list1,list2,marks)}\n",
    "print(convert_to_dict)\n",
    "\n",
    "experiment = [items for items in zip(list1,list2)]  # from here we have noticed that zip function gives tuples\n",
    "print(experiment)"
   ]
  },
  {
   "cell_type": "code",
   "execution_count": 3,
   "id": "f4f034a6-d40a-4d26-bf39-f1133562d41c",
   "metadata": {},
   "outputs": [
    {
     "name": "stdout",
     "output_type": "stream",
     "text": [
      "missing number is : 4\n"
     ]
    }
   ],
   "source": [
    "# find missing number in an array(using summation and Xor operation\n",
    "q_list = [1,2,3,5,6,7]\n",
    "\n",
    "p_list = [n+1 for n in range(len(q_list)+1)]\n",
    "print(\"using sum(): \")\n",
    "missing = sum(p_list) - sum(q_list)\n",
    "print(\"missing number is : {}\".format(missing))\n",
    "\n",
    "\n",
    "print(\"Using XOR opration\")\n",
    "n= len(q_list)\n",
    "xor_q = a[0]\n",
    "for index in range(1,n):\n",
    "    xor_q = xor_q[index\n"
   ]
  },
  {
   "cell_type": "code",
   "execution_count": 11,
   "id": "8fa87108-3698-45e2-a692-b6659c6ee827",
   "metadata": {},
   "outputs": [
    {
     "data": {
      "text/plain": [
       "[(8, 9)]"
      ]
     },
     "execution_count": 11,
     "metadata": {},
     "output_type": "execute_result"
    }
   ],
   "source": [
    "# Find out pairs with given sum values of an array\n",
    "arr = [5,7,4,3,9,8,19,11]\n",
    "target = 17\n",
    "ans = []\n",
    "\n",
    "#using two pointer method\n",
    "left = 0 \n",
    "right = len(arr) - 1\n",
    "arr.sort()\n",
    "while (left < right):\n",
    "    if arr[left]+arr[right] < target:\n",
    "        left += 1\n",
    "    elif arr[left]+arr[right] > target:\n",
    "        right -= 1\n",
    "    elif arr[left]+arr[right] == target:\n",
    "        ans.append((arr[left],arr[right]))\n",
    "        left += 1\n",
    "        right -= 1\n",
    "\n",
    "ans\n",
    "\n",
    "    "
   ]
  },
  {
   "cell_type": "code",
   "execution_count": 16,
   "id": "e8b9d32e-bb5c-4bcc-b086-274c2b459bfb",
   "metadata": {},
   "outputs": [
    {
     "name": "stdout",
     "output_type": "stream",
     "text": [
      "{757: 'Apple', 782: 'Banana', 132: 'Grapes', 876: 'Mango'}\n",
      "{876: 'Mango', 782: 'Banana', 757: 'Apple', 132: 'Grapes'}\n"
     ]
    }
   ],
   "source": [
    "# sort a dictionary (By value)\n",
    "dict1 = {757:'Apple' , 876 : 'Mango' , 132:'Grapes' , 782: 'Banana'}\n",
    "\n",
    "dict2 = { key : value for key,value in sorted(dict1.items() ,key=lambda x: x[1])}\n",
    "\n",
    "print(dict2)\n",
    "\n",
    "dict3 = {key:value for key,value in sorted(dict1.items(),key=lambda x: x[0],reverse=True)}\n",
    "print(dict3)\n",
    "\n"
   ]
  },
  {
   "cell_type": "code",
   "execution_count": null,
   "id": "5ecb6a07-fd0a-4b2a-b0ad-c30c873f784d",
   "metadata": {},
   "outputs": [],
   "source": [
    "#fibbonaci series by using recursion\n",
    "\n",
    "def recur_fibb(n):\n",
    "    if n<= 1:\n",
    "        return n\n",
    "\n"
   ]
  }
 ],
 "metadata": {
  "kernelspec": {
   "display_name": "Python 3 (ipykernel)",
   "language": "python",
   "name": "python3"
  },
  "language_info": {
   "codemirror_mode": {
    "name": "ipython",
    "version": 3
   },
   "file_extension": ".py",
   "mimetype": "text/x-python",
   "name": "python",
   "nbconvert_exporter": "python",
   "pygments_lexer": "ipython3",
   "version": "3.10.5"
  }
 },
 "nbformat": 4,
 "nbformat_minor": 5
}
